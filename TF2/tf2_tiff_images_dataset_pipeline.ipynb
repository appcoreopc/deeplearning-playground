{
  "nbformat": 4,
  "nbformat_minor": 0,
  "metadata": {
    "colab": {
      "name": "tf2-tiff-images-dataset-pipeline",
      "version": "0.3.2",
      "provenance": [],
      "collapsed_sections": [
        "UnOhpJ-PR6HN"
      ],
      "include_colab_link": true
    },
    "kernelspec": {
      "name": "python3",
      "display_name": "Python 3"
    }
  },
  "cells": [
    {
      "cell_type": "markdown",
      "metadata": {
        "id": "view-in-github",
        "colab_type": "text"
      },
      "source": [
        "<a href=\"https://colab.research.google.com/github/lc0/deeplearning-playground/blob/master/TF2/tf2_tiff_images_dataset_pipeline.ipynb\" target=\"_parent\"><img src=\"https://colab.research.google.com/assets/colab-badge.svg\" alt=\"Open In Colab\"/></a>"
      ]
    },
    {
      "metadata": {
        "id": "bahskCs761an",
        "colab_type": "code",
        "colab": {
          "base_uri": "https://localhost:8080/",
          "height": 530
        },
        "outputId": "6f2dc5cf-a162-4b0f-a07b-bba69c8a5f3f"
      },
      "cell_type": "code",
      "source": [
        "!pip install tf-nightly-gpu-2.0-preview"
      ],
      "execution_count": 1,
      "outputs": [
        {
          "output_type": "stream",
          "text": [
            "Collecting tf-nightly-gpu-2.0-preview\n",
            "\u001b[?25l  Downloading https://files.pythonhosted.org/packages/07/36/639f85dfd3828e2c0b03cc07edf534021a63bff7ac2effe82dee21b126fa/tf_nightly_gpu_2.0_preview-2.0.0.dev20190208-cp36-cp36m-manylinux1_x86_64.whl (322.1MB)\n",
            "\u001b[K    100% |████████████████████████████████| 322.1MB 84kB/s \n",
            "\u001b[?25hRequirement already satisfied: termcolor>=1.1.0 in /usr/local/lib/python3.6/dist-packages (from tf-nightly-gpu-2.0-preview) (1.1.0)\n",
            "Requirement already satisfied: protobuf>=3.6.1 in /usr/local/lib/python3.6/dist-packages (from tf-nightly-gpu-2.0-preview) (3.6.1)\n",
            "Requirement already satisfied: wheel>=0.26 in /usr/local/lib/python3.6/dist-packages (from tf-nightly-gpu-2.0-preview) (0.32.3)\n",
            "Collecting tb-nightly<1.14.0a0,>=1.13.0a0 (from tf-nightly-gpu-2.0-preview)\n",
            "\u001b[?25l  Downloading https://files.pythonhosted.org/packages/a0/9e/ad351aae575647c166858c3bd28d8b6215697991f6bf20864b5cbe322d38/tb_nightly-1.13.0a20190210-py3-none-any.whl (3.2MB)\n",
            "\u001b[K    100% |████████████████████████████████| 3.2MB 7.8MB/s \n",
            "\u001b[?25hCollecting google-pasta>=0.1.1 (from tf-nightly-gpu-2.0-preview)\n",
            "\u001b[?25l  Downloading https://files.pythonhosted.org/packages/86/6c/9eabce1c1cdaa657751a802f94d71ca29b8f82e10cac97c3fd5f8c82736c/google_pasta-0.1.1-py3-none-any.whl (51kB)\n",
            "\u001b[K    100% |████████████████████████████████| 61kB 27.3MB/s \n",
            "\u001b[?25hRequirement already satisfied: grpcio>=1.8.6 in /usr/local/lib/python3.6/dist-packages (from tf-nightly-gpu-2.0-preview) (1.15.0)\n",
            "Requirement already satisfied: six>=1.10.0 in /usr/local/lib/python3.6/dist-packages (from tf-nightly-gpu-2.0-preview) (1.11.0)\n",
            "Requirement already satisfied: gast>=0.2.0 in /usr/local/lib/python3.6/dist-packages (from tf-nightly-gpu-2.0-preview) (0.2.2)\n",
            "Requirement already satisfied: absl-py>=0.1.6 in /usr/local/lib/python3.6/dist-packages (from tf-nightly-gpu-2.0-preview) (0.7.0)\n",
            "Collecting tensorflow-estimator-2.0-preview (from tf-nightly-gpu-2.0-preview)\n",
            "\u001b[?25l  Downloading https://files.pythonhosted.org/packages/35/c1/5a32c6093e96421cb0fe64d25a0e9c5e7bba9d87c7e431fb375b12437e73/tensorflow_estimator_2.0_preview-1.13.0.dev2019012800-py2.py3-none-any.whl (347kB)\n",
            "\u001b[K    100% |████████████████████████████████| 348kB 13.5MB/s \n",
            "\u001b[?25hRequirement already satisfied: astor>=0.6.0 in /usr/local/lib/python3.6/dist-packages (from tf-nightly-gpu-2.0-preview) (0.7.1)\n",
            "Requirement already satisfied: keras-applications>=1.0.6 in /usr/local/lib/python3.6/dist-packages (from tf-nightly-gpu-2.0-preview) (1.0.7)\n",
            "Requirement already satisfied: numpy<2.0,>=1.14.5 in /usr/local/lib/python3.6/dist-packages (from tf-nightly-gpu-2.0-preview) (1.14.6)\n",
            "Requirement already satisfied: keras-preprocessing>=1.0.5 in /usr/local/lib/python3.6/dist-packages (from tf-nightly-gpu-2.0-preview) (1.0.9)\n",
            "Requirement already satisfied: setuptools in /usr/local/lib/python3.6/dist-packages (from protobuf>=3.6.1->tf-nightly-gpu-2.0-preview) (40.8.0)\n",
            "Requirement already satisfied: markdown>=2.6.8 in /usr/local/lib/python3.6/dist-packages (from tb-nightly<1.14.0a0,>=1.13.0a0->tf-nightly-gpu-2.0-preview) (3.0.1)\n",
            "Requirement already satisfied: werkzeug>=0.11.15 in /usr/local/lib/python3.6/dist-packages (from tb-nightly<1.14.0a0,>=1.13.0a0->tf-nightly-gpu-2.0-preview) (0.14.1)\n",
            "Requirement already satisfied: h5py in /usr/local/lib/python3.6/dist-packages (from keras-applications>=1.0.6->tf-nightly-gpu-2.0-preview) (2.8.0)\n",
            "Installing collected packages: tb-nightly, google-pasta, tensorflow-estimator-2.0-preview, tf-nightly-gpu-2.0-preview\n",
            "Successfully installed google-pasta-0.1.1 tb-nightly-1.13.0a20190210 tensorflow-estimator-2.0-preview-1.13.0.dev2019012800 tf-nightly-gpu-2.0-preview-2.0.0.dev20190208\n"
          ],
          "name": "stdout"
        }
      ]
    },
    {
      "metadata": {
        "id": "bkL_-T2l7WEj",
        "colab_type": "code",
        "colab": {}
      },
      "cell_type": "code",
      "source": [
        "import tensorflow as tfgith"
      ],
      "execution_count": 0,
      "outputs": []
    },
    {
      "metadata": {
        "id": "-evSwzeFR0_K",
        "colab_type": "text"
      },
      "cell_type": "markdown",
      "source": [
        "# Data"
      ]
    },
    {
      "metadata": {
        "id": "UnOhpJ-PR6HN",
        "colab_type": "text"
      },
      "cell_type": "markdown",
      "source": [
        "## initial training dataset"
      ]
    },
    {
      "metadata": {
        "id": "-HWyGjobR4P_",
        "colab_type": "code",
        "outputId": "dec9c1f9-2572-4435-8a44-a849030b9784",
        "colab": {
          "resources": {
            "http://localhost:8080/nbextensions/google.colab/files.js": {
              "data": "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",
              "ok": true,
              "headers": [
                [
                  "content-type",
                  "application/javascript"
                ]
              ],
              "status": 200,
              "status_text": ""
            }
          },
          "base_uri": "https://localhost:8080/",
          "height": 69
        }
      },
      "cell_type": "code",
      "source": [
        "from google.colab import files\n",
        "\n",
        "uploaded = files.upload()"
      ],
      "execution_count": 0,
      "outputs": [
        {
          "output_type": "display_data",
          "data": {
            "text/html": [
              "\n",
              "     <input type=\"file\" id=\"files-fa3913b4-b45a-4a2f-8c0b-e2bbd8616959\" name=\"files[]\" multiple disabled />\n",
              "     <output id=\"result-fa3913b4-b45a-4a2f-8c0b-e2bbd8616959\">\n",
              "      Upload widget is only available when the cell has been executed in the\n",
              "      current browser session. Please rerun this cell to enable.\n",
              "      </output>\n",
              "      <script src=\"/nbextensions/google.colab/files.js\"></script> "
            ],
            "text/plain": [
              "<IPython.core.display.HTML object>"
            ]
          },
          "metadata": {
            "tags": []
          }
        },
        {
          "output_type": "stream",
          "text": [
            "Saving photomask_trainingdata.zip to photomask_trainingdata.zip\n"
          ],
          "name": "stdout"
        }
      ]
    },
    {
      "metadata": {
        "id": "kjdIMZ9eSNXH",
        "colab_type": "code",
        "outputId": "3c09b524-c4bc-4102-a8b2-3896077e5da9",
        "colab": {
          "base_uri": "https://localhost:8080/",
          "height": 153
        }
      },
      "cell_type": "code",
      "source": [
        "!ls -la"
      ],
      "execution_count": 5,
      "outputs": [
        {
          "output_type": "stream",
          "text": [
            "total 5572\n",
            "drwxr-xr-x 1 root root    4096 Feb 10 14:57 .\n",
            "drwxr-xr-x 1 root root    4096 Feb 10 14:50 ..\n",
            "drwxr-xr-x 1 root root    4096 Feb  6 17:30 .config\n",
            "drwxr-xr-x 3 root root    4096 Feb 10 14:57 dataset\n",
            "-rw-r--r-- 1 root root 2430745 Feb 10 14:54 photomask_testdata.zip\n",
            "-rw-r--r-- 1 root root 3249054 Feb 10 14:56 photomask_trainingdata.zip\n",
            "drwxr-xr-x 1 root root    4096 Feb  6 17:31 sample_data\n"
          ],
          "name": "stdout"
        }
      ]
    },
    {
      "metadata": {
        "id": "aqDN2K_7Tc-x",
        "colab_type": "code",
        "outputId": "26d91d46-1d83-454e-f90a-57f1981e9db3",
        "colab": {
          "base_uri": "https://localhost:8080/",
          "height": 51
        }
      },
      "cell_type": "code",
      "source": [
        "!unzip photomask_trainingdata.zip -d dataset"
      ],
      "execution_count": 6,
      "outputs": [
        {
          "output_type": "stream",
          "text": [
            "Archive:  photomask_trainingdata.zip\n",
            "replace dataset/photomask_trainingdata/COMPLETE FEATURE/026_2.tif? [y]es, [n]o, [A]ll, [N]one, [r]ename: "
          ],
          "name": "stdout"
        }
      ]
    },
    {
      "metadata": {
        "id": "YyONXtKgTlJI",
        "colab_type": "code",
        "colab": {
          "base_uri": "https://localhost:8080/",
          "height": 34
        },
        "outputId": "168998d6-51a5-4d89-c9a1-dde79f0a6b28"
      },
      "cell_type": "code",
      "source": [
        "rm -r dataset/__MACOSX/"
      ],
      "execution_count": 7,
      "outputs": [
        {
          "output_type": "stream",
          "text": [
            "rm: cannot remove 'dataset/__MACOSX/': No such file or directory\n"
          ],
          "name": "stdout"
        }
      ]
    },
    {
      "metadata": {
        "id": "xb_gzYb2T38g",
        "colab_type": "code",
        "colab": {}
      },
      "cell_type": "code",
      "source": [
        "dataset_path = 'dataset/photomask_trainingdata/'"
      ],
      "execution_count": 0,
      "outputs": []
    },
    {
      "metadata": {
        "id": "HtoOoFjETtDw",
        "colab_type": "code",
        "outputId": "daef56fa-1745-4349-edaa-30d6c0a6af30",
        "colab": {
          "base_uri": "https://localhost:8080/",
          "height": 119
        }
      },
      "cell_type": "code",
      "source": [
        "!ls -la {dataset_path}"
      ],
      "execution_count": 9,
      "outputs": [
        {
          "output_type": "stream",
          "text": [
            "total 20\n",
            "drwxrwxrwx 5 root root 4096 Feb  5 17:17  .\n",
            "drwxr-xr-x 3 root root 4096 Feb 10 14:57  ..\n",
            "drwxrwxrwx 2 root root 4096 Feb  5 17:04  BORDERTOUCHER\n",
            "drwxrwxrwx 2 root root 4096 Feb  5 17:05 'COMPLETE FEATURE'\n",
            "drwxrwxrwx 2 root root 4096 Feb  5 17:04 'NO FEATURE'\n"
          ],
          "name": "stdout"
        }
      ]
    },
    {
      "metadata": {
        "id": "Vg_2f1mcSpJA",
        "colab_type": "text"
      },
      "cell_type": "markdown",
      "source": [
        "## TF Dataset based on the files"
      ]
    },
    {
      "metadata": {
        "id": "HxeXXIvySsLQ",
        "colab_type": "code",
        "colab": {
          "base_uri": "https://localhost:8080/",
          "height": 34
        },
        "outputId": "8df4fdbb-c207-4482-96af-61cd2acb880a"
      },
      "cell_type": "code",
      "source": [
        "import tensorflow as tf\n",
        "\n",
        "tf.version.VERSION"
      ],
      "execution_count": 11,
      "outputs": [
        {
          "output_type": "execute_result",
          "data": {
            "text/plain": [
              "'2.0.0-dev20190208'"
            ]
          },
          "metadata": {
            "tags": []
          },
          "execution_count": 11
        }
      ]
    },
    {
      "metadata": {
        "id": "ESlfgTKbVoqx",
        "colab_type": "code",
        "colab": {}
      },
      "cell_type": "code",
      "source": [
        "work_image_size = [28, 28]\n",
        "\n",
        "batch_size = 16"
      ],
      "execution_count": 0,
      "outputs": []
    },
    {
      "metadata": {
        "id": "nxYSelu-WGqG",
        "colab_type": "code",
        "outputId": "05030080-ca47-4497-f969-301dbef18792",
        "colab": {
          "base_uri": "https://localhost:8080/",
          "height": 71
        }
      },
      "cell_type": "code",
      "source": [
        "from os import listdir, path\n",
        "\n",
        "class_names = listdir(dataset_path)\n",
        "# print(class_names)\n",
        "\n",
        "class_folders = [(idx, path.join(dataset_path, class_name)) for idx, class_name in enumerate(class_names)]\n",
        "# print(class_folders)"
      ],
      "execution_count": 23,
      "outputs": [
        {
          "output_type": "stream",
          "text": [
            "['NO FEATURE', 'COMPLETE FEATURE', 'BORDERTOUCHER']\n",
            "[(0, 'dataset/photomask_trainingdata/NO FEATURE'), (1, 'dataset/photomask_trainingdata/COMPLETE FEATURE'), (2, 'dataset/photomask_trainingdata/BORDERTOUCHER')]\n"
          ],
          "name": "stdout"
        }
      ]
    },
    {
      "metadata": {
        "id": "rBRpk3phUyBm",
        "colab_type": "code",
        "colab": {}
      },
      "cell_type": "code",
      "source": [
        "filenames = []\n",
        "class_ids = []\n",
        "for class_id, folder in class_folders:\n",
        "  files = listdir(folder)\n",
        "  \n",
        "  filenames.extend([path.join(folder, filename) for filename in listdir(folder)])\n",
        "  class_ids.extend([class_id for filename in listdir(folder)])\n",
        "\n",
        "\n",
        "len(filenames)\n",
        "assert len(class_ids) == len(class_ids)"
      ],
      "execution_count": 0,
      "outputs": []
    },
    {
      "metadata": {
        "id": "wH2NMVREDUA7",
        "colab_type": "text"
      },
      "cell_type": "markdown",
      "source": [
        "Unfortunately `tf.py_function` can only return a tuple. With generic `map` we can work with `dict` interface"
      ]
    },
    {
      "metadata": {
        "id": "xnWV25GPuMGE",
        "colab_type": "code",
        "colab": {}
      },
      "cell_type": "code",
      "source": [
        "from PIL import Image\n",
        "import numpy as np\n",
        "\n",
        "def parse_tiff_py(filename, class_id):\n",
        "    print(filename.numpy())\n",
        "    \n",
        "    im = Image.open(filename.numpy())\n",
        "    im = im.resize(work_image_size)\n",
        "    \n",
        "    return np.array(im), class_id"
      ],
      "execution_count": 0,
      "outputs": []
    },
    {
      "metadata": {
        "id": "hZ1NDRvMDseJ",
        "colab_type": "text"
      },
      "cell_type": "markdown",
      "source": [
        "Now we just need to add our python function to `dataset` pipeline. We can do with follow `lambda` trick"
      ]
    },
    {
      "metadata": {
        "id": "LOhA4Ym8U2Hz",
        "colab_type": "code",
        "outputId": "087b3295-056a-4a3e-8cb8-723f3995c5c1",
        "colab": {
          "base_uri": "https://localhost:8080/",
          "height": 34
        }
      },
      "cell_type": "code",
      "source": [
        "dataset = tf.data.Dataset.from_tensor_slices((filenames, class_ids))\n",
        "dataset = dataset.shuffle(len(filenames))\n",
        "\n",
        "dataset = dataset.map(lambda filename, label: tf.py_function(\n",
        "              parse_tiff_py, \n",
        "              (filename, label),  \n",
        "              [tf.uint8, label.dtype]))\n",
        "\n",
        "dataset"
      ],
      "execution_count": 108,
      "outputs": [
        {
          "output_type": "execute_result",
          "data": {
            "text/plain": [
              "<MapDataset shapes: (<unknown>, <unknown>), types: (tf.uint8, tf.int32)>"
            ]
          },
          "metadata": {
            "tags": []
          },
          "execution_count": 108
        }
      ]
    },
    {
      "metadata": {
        "id": "-92em8XFYzi3",
        "colab_type": "code",
        "outputId": "5866a5d1-95da-446a-af26-ff6c928c0dd3",
        "colab": {
          "base_uri": "https://localhost:8080/",
          "height": 34
        }
      },
      "cell_type": "code",
      "source": [
        "features = dataset.take(1)\n",
        "features"
      ],
      "execution_count": 109,
      "outputs": [
        {
          "output_type": "execute_result",
          "data": {
            "text/plain": [
              "<TakeDataset shapes: (<unknown>, <unknown>), types: (tf.uint8, tf.int32)>"
            ]
          },
          "metadata": {
            "tags": []
          },
          "execution_count": 109
        }
      ]
    },
    {
      "metadata": {
        "id": "rDG_Sg5eZNjM",
        "colab_type": "code",
        "outputId": "ce2dc5c9-73c8-47c5-f21e-8ba8350ee0a1",
        "colab": {
          "base_uri": "https://localhost:8080/",
          "height": 1479
        }
      },
      "cell_type": "code",
      "source": [
        "for row in features:\n",
        "  print(row)\n",
        "  image = row[0]\n",
        "  label = row[1]"
      ],
      "execution_count": 110,
      "outputs": [
        {
          "output_type": "stream",
          "text": [
            "b'dataset/photomask_trainingdata/COMPLETE FEATURE/006_2.tif'\n",
            "(<tf.Tensor: id=503, shape=(28, 28), dtype=uint8, numpy=\n",
            "array([[127, 191, 130, 240, 146, 147, 105, 174, 122, 150, 221, 155,  84,\n",
            "        186, 128,  99,  90, 146, 138, 192, 196, 106, 157, 153,  56, 151,\n",
            "        148, 170],\n",
            "       [229, 208, 135, 158, 125, 110, 172, 137, 102, 168,  84, 145, 130,\n",
            "        122, 139, 129, 175, 154, 111, 227, 155, 131, 153, 132, 147, 171,\n",
            "        141, 150],\n",
            "       [122, 162, 216, 235, 181, 104, 109, 160, 154, 161, 122, 129, 193,\n",
            "        109, 169, 100, 175,  91, 136, 131, 174, 145, 153, 127, 140, 175,\n",
            "        134,  92],\n",
            "       [120, 197, 117, 160, 117,  97, 216, 124, 172, 165, 165, 179, 101,\n",
            "        100, 216, 158, 138, 180, 152, 170, 151, 174, 132, 179, 163, 186,\n",
            "         64, 126],\n",
            "       [119, 156, 150, 151, 245, 111, 162, 125, 184, 167, 165, 173, 198,\n",
            "        162, 163, 170, 180, 250, 159, 139, 166, 170, 160,  72, 158, 123,\n",
            "        108, 154],\n",
            "       [248, 138, 106, 111, 122, 123, 171, 136, 157, 244, 104, 110, 224,\n",
            "        255, 183, 255, 240, 226, 224, 231, 206, 174, 115, 175, 173, 156,\n",
            "        143, 105],\n",
            "       [133, 118, 147, 147, 213,  98, 173,  94, 116, 169, 191, 112, 208,\n",
            "        158, 197, 216, 243, 255, 152, 221, 182, 141, 206, 199,  88, 163,\n",
            "        130, 184],\n",
            "       [171, 130, 175, 158, 137, 148, 127, 160, 181, 119, 178, 255, 249,\n",
            "        172, 255, 249, 255, 255, 255, 233, 255, 255, 246, 148, 215, 168,\n",
            "        130, 141],\n",
            "       [101, 129, 144, 179, 181, 177, 172, 192, 194, 192, 240, 216, 242,\n",
            "        255, 255, 255, 255, 255, 255, 255, 255, 244, 253, 213, 168, 213,\n",
            "        177, 147],\n",
            "       [140, 209, 232, 137, 161, 149, 141, 199, 226, 232, 235, 206, 237,\n",
            "        255, 232, 255, 255, 255, 251, 255, 217, 222, 255, 255, 255, 150,\n",
            "        255, 208],\n",
            "       [145, 106, 224, 155, 150, 156, 202, 211, 163, 253, 233, 248, 181,\n",
            "        255, 255, 255, 214, 255, 223, 236, 255, 255, 255, 237, 255, 229,\n",
            "        255, 241],\n",
            "       [167, 191, 157, 159, 110, 164, 152, 168, 224, 193, 181, 230, 255,\n",
            "        220, 245, 213, 255, 225, 226, 236, 255, 246, 255, 255, 249, 255,\n",
            "        255, 223],\n",
            "       [198, 123, 231, 199, 174, 179, 136, 133, 175, 255, 209, 224, 255,\n",
            "        255, 247, 234, 224, 249, 121, 220, 255, 254, 255, 255, 255, 226,\n",
            "        255, 233],\n",
            "       [189, 210, 107, 119, 165, 122, 160,  82, 222, 182, 255, 238, 236,\n",
            "        255, 255, 254, 202, 233, 255, 240, 255, 255, 255, 254, 242, 255,\n",
            "        189, 218],\n",
            "       [146, 148, 121, 179, 132, 130, 205, 147, 130, 236, 236, 254, 255,\n",
            "        255, 255, 255, 195, 210, 224, 235, 255, 255, 255, 251, 255, 255,\n",
            "        227, 252],\n",
            "       [221, 220, 176, 182, 106, 103, 133, 157, 170, 225, 192, 226, 246,\n",
            "        255, 201, 255, 235, 244, 255, 255, 227, 255, 229, 255, 249, 235,\n",
            "        137, 151],\n",
            "       [206, 136, 162, 143, 109, 121, 166, 104, 218, 171, 223, 187, 255,\n",
            "        255, 229, 255, 255, 199, 255, 255, 193, 209, 238, 231, 181, 183,\n",
            "        171, 116],\n",
            "       [165, 151, 134, 175, 209, 139, 142, 132, 181, 161, 182, 184, 251,\n",
            "        255, 255, 255, 255, 255, 255, 204, 255, 255, 255, 222, 187, 155,\n",
            "        145, 151],\n",
            "       [166, 168, 228, 163, 199,  99, 141, 123, 161, 247, 255, 186, 220,\n",
            "        255, 237, 205, 246, 214, 255, 233, 217, 255, 220, 228, 165,  87,\n",
            "        123, 154],\n",
            "       [212, 208, 100, 113, 216, 101, 150, 166, 148, 197, 255, 206, 233,\n",
            "        255, 255, 255, 255, 255, 244, 229, 255, 204, 226, 207, 139, 103,\n",
            "        120, 122],\n",
            "       [165, 142,  85, 148, 131, 160, 117, 180, 167, 168, 255, 191, 229,\n",
            "        255, 255, 255, 234, 153, 241, 246, 236, 214, 233, 182, 172, 255,\n",
            "         90, 121],\n",
            "       [173, 162, 171, 156, 195, 220, 197, 182, 197, 145, 189, 147, 187,\n",
            "        255, 230, 255, 253, 217, 165, 235, 206, 156, 150, 236, 192, 166,\n",
            "        127, 170],\n",
            "       [176, 204, 174, 255, 158, 135, 160, 140, 114, 187, 195, 196, 232,\n",
            "        217, 209, 191, 203, 231, 184, 255, 161,  91, 126, 152,  76, 125,\n",
            "        206, 188],\n",
            "       [ 97,  98, 244, 115, 138, 171, 196, 174, 105, 124, 112, 178, 210,\n",
            "        206, 123, 189, 217, 208, 151, 184, 111, 105, 137, 181, 170, 152,\n",
            "        202, 159],\n",
            "       [135, 152, 128, 162, 138, 182, 166, 159, 197, 164, 114, 224, 187,\n",
            "        208, 191, 109,  95, 157, 153, 139, 118, 103, 156, 137, 162, 117,\n",
            "        197, 150],\n",
            "       [155, 236, 142, 167, 110, 108, 118,  99, 117, 174, 121, 128, 149,\n",
            "        170, 129, 190, 168, 170, 137, 162, 197, 170, 168, 165, 119, 152,\n",
            "         94,  63],\n",
            "       [205, 223, 123, 163, 156, 174, 177, 171, 144, 110, 173, 152, 142,\n",
            "        149, 123, 213, 129, 161, 133, 151, 252, 189,  99, 183,  98,  64,\n",
            "        241, 144],\n",
            "       [255, 187, 160, 126, 180, 223, 142, 183, 121, 203,  98, 144, 116,\n",
            "        195, 212, 136, 187, 152, 226, 111, 113, 174, 111, 145, 175, 201,\n",
            "        165, 200]], dtype=uint8)>, <tf.Tensor: id=504, shape=(), dtype=int32, numpy=1>)\n"
          ],
          "name": "stdout"
        }
      ]
    },
    {
      "metadata": {
        "id": "zl0cR3ZWuoGy",
        "colab_type": "code",
        "outputId": "878c408d-ba3a-4443-def2-dee210a8b255",
        "colab": {
          "base_uri": "https://localhost:8080/",
          "height": 381
        }
      },
      "cell_type": "code",
      "source": [
        "import matplotlib.pyplot as plt\n",
        "\n",
        "print(image.shape)\n",
        "plt.imshow(image, cmap=plt.get_cmap(\"gray\"))\n",
        "\n",
        "print(f\"Label - {class_names[label]}\")"
      ],
      "execution_count": 111,
      "outputs": [
        {
          "output_type": "stream",
          "text": [
            "(28, 28)\n",
            "Label - COMPLETE FEATURE\n"
          ],
          "name": "stdout"
        },
        {
          "output_type": "display_data",
          "data": {
            "image/png": "[encoded data removed]",
            "text/plain": [
              "<Figure size 576x396 with 1 Axes>"
            ]
          },
          "metadata": {
            "tags": []
          }
        }
      ]
    },
    {
      "metadata": {
        "id": "tdNHyikBDMqY",
        "colab_type": "code",
        "colab": {}
      },
      "cell_type": "code",
      "source": [
        ""
      ],
      "execution_count": 0,
      "outputs": []
    }
  ]
}