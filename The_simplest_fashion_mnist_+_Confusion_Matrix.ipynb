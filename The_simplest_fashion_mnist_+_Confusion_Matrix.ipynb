{
  "nbformat": 4,
  "nbformat_minor": 0,
  "metadata": {
    "colab": {
      "name": "The-simplest-fashion-mnist + Confusion Matrix.ipynb",
      "version": "0.3.2",
      "provenance": [],
      "collapsed_sections": [],
      "include_colab_link": true
    },
    "kernelspec": {
      "name": "python3",
      "display_name": "Python 3"
    },
    "accelerator": "GPU"
  },
  "cells": [
    {
      "cell_type": "markdown",
      "metadata": {
        "id": "view-in-github",
        "colab_type": "text"
      },
      "source": [
        "<a href=\"https://colab.research.google.com/github/lc0/deeplearning-playground/blob/master/The_simplest_fashion_mnist_+_Confusion_Matrix.ipynb\" target=\"_parent\"><img src=\"https://colab.research.google.com/assets/colab-badge.svg\" alt=\"Open In Colab\"/></a>"
      ]
    },
    {
      "metadata": {
        "id": "_96YiOnl8niT",
        "colab_type": "code",
        "colab": {}
      },
      "cell_type": "code",
      "source": [
        "import tensorflow as tf\n",
        "from tensorflow import keras\n",
        "\n",
        "# tf.enable_eager_execution()\n",
        "\n",
        "fashion_mnist = keras.datasets.fashion_mnist\n",
        "(train_images, train_labels), (test_images, test_labels) = fashion_mnist.load_data()\n",
        "\n",
        "train_images_norm = train_images/256\n",
        "test_images_norm = test_images/256"
      ],
      "execution_count": 0,
      "outputs": []
    },
    {
      "metadata": {
        "id": "bedaOE1a8veg",
        "colab_type": "code",
        "colab": {}
      },
      "cell_type": "code",
      "source": [
        "model = keras.Sequential([\n",
        "    keras.layers.Flatten(input_shape=(28, 28)),\n",
        "    keras.layers.Dense(128, activation=tf.nn.relu),\n",
        "    keras.layers.Dense(10, activation=tf.nn.softmax)\n",
        "])\n"
      ],
      "execution_count": 0,
      "outputs": []
    },
    {
      "metadata": {
        "id": "4dx_arvPJ9xA",
        "colab_type": "code",
        "outputId": "e362500f-535f-45c3-866d-d0c48f516f54",
        "colab": {
          "base_uri": "https://localhost:8080/",
          "height": 238
        }
      },
      "cell_type": "code",
      "source": [
        "model.summary()"
      ],
      "execution_count": 3,
      "outputs": [
        {
          "output_type": "stream",
          "text": [
            "_________________________________________________________________\n",
            "Layer (type)                 Output Shape              Param #   \n",
            "=================================================================\n",
            "flatten (Flatten)            (None, 784)               0         \n",
            "_________________________________________________________________\n",
            "dense (Dense)                (None, 128)               100480    \n",
            "_________________________________________________________________\n",
            "dense_1 (Dense)              (None, 10)                1290      \n",
            "=================================================================\n",
            "Total params: 101,770\n",
            "Trainable params: 101,770\n",
            "Non-trainable params: 0\n",
            "_________________________________________________________________\n"
          ],
          "name": "stdout"
        }
      ]
    },
    {
      "metadata": {
        "id": "5TaydQ0i8zoW",
        "colab_type": "code",
        "colab": {}
      },
      "cell_type": "code",
      "source": [
        "model.compile(optimizer=tf.train.AdamOptimizer(),\n",
        "              loss='sparse_categorical_crossentropy',\n",
        "              metrics=['accuracy'])\n"
      ],
      "execution_count": 0,
      "outputs": []
    },
    {
      "metadata": {
        "id": "pzuSpy6e82ae",
        "colab_type": "code",
        "outputId": "d17d9a21-0d58-4fe5-a7a0-853007568033",
        "colab": {
          "base_uri": "https://localhost:8080/",
          "height": 204
        }
      },
      "cell_type": "code",
      "source": [
        "model.fit(train_images_norm, train_labels, epochs=5)\n"
      ],
      "execution_count": 5,
      "outputs": [
        {
          "output_type": "stream",
          "text": [
            "Epoch 1/5\n",
            "60000/60000 [==============================] - 7s 119us/step - loss: 0.5024 - acc: 0.8229\n",
            "Epoch 2/5\n",
            "60000/60000 [==============================] - 6s 102us/step - loss: 0.3790 - acc: 0.8634\n",
            "Epoch 3/5\n",
            "60000/60000 [==============================] - 6s 105us/step - loss: 0.3390 - acc: 0.8759\n",
            "Epoch 4/5\n",
            "60000/60000 [==============================] - 6s 102us/step - loss: 0.3140 - acc: 0.8842\n",
            "Epoch 5/5\n",
            "60000/60000 [==============================] - 6s 104us/step - loss: 0.2985 - acc: 0.8905\n"
          ],
          "name": "stdout"
        },
        {
          "output_type": "execute_result",
          "data": {
            "text/plain": [
              "<tensorflow.python.keras.callbacks.History at 0x7f9396ff00b8>"
            ]
          },
          "metadata": {
            "tags": []
          },
          "execution_count": 5
        }
      ]
    },
    {
      "metadata": {
        "id": "TXDglY4n8612",
        "colab_type": "code",
        "outputId": "adb966ce-dd33-4830-fcef-103c7795affc",
        "colab": {
          "base_uri": "https://localhost:8080/",
          "height": 68
        }
      },
      "cell_type": "code",
      "source": [
        "loss, accuracy = model.evaluate(test_images_norm, test_labels)\n",
        "print('Test loss:', loss)\n",
        "print('Test accuracy:', accuracy)"
      ],
      "execution_count": 6,
      "outputs": [
        {
          "output_type": "stream",
          "text": [
            "10000/10000 [==============================] - 1s 75us/step\n",
            "Test loss: 0.341156424677372\n",
            "Test accuracy: 0.8785\n"
          ],
          "name": "stdout"
        }
      ]
    },
    {
      "metadata": {
        "id": "KqFKr4WVAXhF",
        "colab_type": "code",
        "outputId": "ff569009-be6d-499d-8294-268f642bcc07",
        "colab": {
          "base_uri": "https://localhost:8080/",
          "height": 299
        }
      },
      "cell_type": "code",
      "source": [
        "import matplotlib.pyplot as plt\n",
        "import numpy as np\n",
        "\n",
        "%matplotlib inline\n",
        "\n",
        "image_id = np.random.randint(len(test_images))\n",
        "print(\"Image ID {} - {}\".format(image_id, test_labels[image_id]))\n",
        "plt.imshow(test_images[image_id], cmap='Greys')"
      ],
      "execution_count": 7,
      "outputs": [
        {
          "output_type": "stream",
          "text": [
            "Image ID 7678 - 6\n"
          ],
          "name": "stdout"
        },
        {
          "output_type": "execute_result",
          "data": {
            "text/plain": [
              "<matplotlib.image.AxesImage at 0x7f9390ceacc0>"
            ]
          },
          "metadata": {
            "tags": []
          },
          "execution_count": 7
        },
        {
          "output_type": "display_data",
          "data": {
            "image/png": "[encoded data removed]",
            "text/plain": [
              "<matplotlib.figure.Figure at 0x7f9396d9ff60>"
            ]
          },
          "metadata": {
            "tags": []
          }
        }
      ]
    },
    {
      "metadata": {
        "id": "0DJbfIse9LoT",
        "colab_type": "code",
        "outputId": "b26c619a-3f3f-4ae8-d07a-9dffdf7becdf",
        "colab": {
          "base_uri": "https://localhost:8080/",
          "height": 68
        }
      },
      "cell_type": "code",
      "source": [
        "image_data = (test_images[image_id]/256)\n",
        "model.predict(image_data.reshape(1, 28, 28))"
      ],
      "execution_count": 8,
      "outputs": [
        {
          "output_type": "execute_result",
          "data": {
            "text/plain": [
              "array([[1.9141521e-04, 2.3384351e-05, 5.1224966e-02, 4.5451528e-04,\n",
              "        5.0013477e-01, 8.7937156e-07, 4.4793499e-01, 8.1495465e-08,\n",
              "        3.4769622e-05, 1.7106058e-07]], dtype=float32)"
            ]
          },
          "metadata": {
            "tags": []
          },
          "execution_count": 8
        }
      ]
    },
    {
      "metadata": {
        "id": "JeVT2hWtAxeP",
        "colab_type": "code",
        "outputId": "dc8fca00-ce6f-4c2b-b6f1-9612c9e1edfd",
        "colab": {
          "base_uri": "https://localhost:8080/",
          "height": 34
        }
      },
      "cell_type": "code",
      "source": [
        "np.argmax(model.predict(image_data.reshape(1, 28, 28)))"
      ],
      "execution_count": 9,
      "outputs": [
        {
          "output_type": "execute_result",
          "data": {
            "text/plain": [
              "4"
            ]
          },
          "metadata": {
            "tags": []
          },
          "execution_count": 9
        }
      ]
    },
    {
      "metadata": {
        "id": "Nn3MZOEkBjcc",
        "colab_type": "code",
        "outputId": "be49d95d-c61d-4679-f961-c300b23a4a1d",
        "colab": {
          "base_uri": "https://localhost:8080/",
          "height": 54
        }
      },
      "cell_type": "code",
      "source": [
        "model.save('fashion-mnist.hd5')"
      ],
      "execution_count": 10,
      "outputs": [
        {
          "output_type": "stream",
          "text": [
            "WARNING:tensorflow:TensorFlow optimizers do not make it possible to access optimizer attributes or optimizer state after instantiation. As a result, we cannot save the optimizer as part of the model save file.You will have to compile your model again after loading it. Prefer using a Keras optimizer instead (see keras.io/optimizers).\n"
          ],
          "name": "stdout"
        }
      ]
    },
    {
      "metadata": {
        "id": "-HHCgOkNF9h1",
        "colab_type": "code",
        "colab": {}
      },
      "cell_type": "code",
      "source": [
        "from google.colab import files\n",
        "\n",
        "files.download('fashion-mnist.hd5')"
      ],
      "execution_count": 0,
      "outputs": []
    },
    {
      "metadata": {
        "id": "wcoGCalSD16C",
        "colab_type": "code",
        "outputId": "64256b51-557d-4eda-b68b-75feb7e9cba6",
        "colab": {
          "base_uri": "https://localhost:8080/",
          "height": 119
        }
      },
      "cell_type": "code",
      "source": [
        "!ls -laF"
      ],
      "execution_count": 12,
      "outputs": [
        {
          "output_type": "stream",
          "text": [
            "total 432\n",
            "drwxr-xr-x 1 root root   4096 Nov 18 22:28 ./\n",
            "drwxr-xr-x 1 root root   4096 Nov 18 22:26 ../\n",
            "drwxr-xr-x 4 root root   4096 Nov 15 19:23 .config/\n",
            "-rw-r--r-- 1 root root 422848 Nov 18 23:05 fashion-mnist.hd5\n",
            "drwxr-xr-x 2 root root   4096 Nov 15 19:33 sample_data/\n"
          ],
          "name": "stdout"
        }
      ]
    },
    {
      "metadata": {
        "id": "X0DdqicuD5Z2",
        "colab_type": "code",
        "outputId": "30965729-180d-46ff-9901-774700d3ffbb",
        "colab": {
          "base_uri": "https://localhost:8080/",
          "height": 34
        }
      },
      "cell_type": "code",
      "source": [
        "from tensorflow.keras.models import load_model\n",
        "\n",
        "newmodel = load_model('fashion-mnist.hd5')"
      ],
      "execution_count": 13,
      "outputs": [
        {
          "output_type": "stream",
          "text": [
            "WARNING:tensorflow:No training configuration found in save file: the model was *not* compiled. Compile it manually.\n"
          ],
          "name": "stdout"
        }
      ]
    },
    {
      "metadata": {
        "id": "YcOfXZKcD_ue",
        "colab_type": "code",
        "outputId": "93776a99-d247-4696-ac8e-9534fc9ecd11",
        "colab": {
          "base_uri": "https://localhost:8080/",
          "height": 367
        }
      },
      "cell_type": "code",
      "source": [
        "newmodel.compile(optimizer=tf.train.AdamOptimizer(),\n",
        "              loss='sparse_categorical_crossentropy',\n",
        "              metrics=['accuracy'])\n",
        "\n",
        "\n",
        "image_id = np.random.randint(len(test_images))\n",
        "print(\"Image ID {} - target class {}\".format(image_id, test_labels[image_id]))\n",
        "plt.imshow(test_images[image_id], cmap='Greys')\n",
        "\n",
        "image_data = (test_images[image_id]/256)\n",
        "print(model.predict(image_data.reshape(1, 28, 28)))\n",
        "\n",
        "print(\"\\n\\nPredicted - {}\".format(np.argmax(model.predict(image_data.reshape(1, 28, 28)))))"
      ],
      "execution_count": 14,
      "outputs": [
        {
          "output_type": "stream",
          "text": [
            "Image ID 4900 - target class 8\n",
            "[[1.2879003e-07 1.2247987e-09 6.5735357e-08 2.9130150e-11 1.3501520e-07\n",
            "  1.3028882e-10 2.3023703e-07 7.0167577e-10 9.9999940e-01 1.0344341e-08]]\n",
            "\n",
            "\n",
            "Predicted - 8\n"
          ],
          "name": "stdout"
        },
        {
          "output_type": "display_data",
          "data": {
            "image/png": "[encoded data removed]",
            "text/plain": [
              "<matplotlib.figure.Figure at 0x7f937dd847f0>"
            ]
          },
          "metadata": {
            "tags": []
          }
        }
      ]
    },
    {
      "metadata": {
        "id": "YENiZQ0j70fx",
        "colab_type": "text"
      },
      "cell_type": "markdown",
      "source": [
        "# Confusion matrix"
      ]
    },
    {
      "metadata": {
        "id": "k8VFi8pW72Zt",
        "colab_type": "code",
        "colab": {}
      },
      "cell_type": "code",
      "source": [
        "?tf.confusion_matrix"
      ],
      "execution_count": 0,
      "outputs": []
    },
    {
      "metadata": {
        "id": "pIBv7Bt076SN",
        "colab_type": "code",
        "colab": {
          "base_uri": "https://localhost:8080/",
          "height": 34
        },
        "outputId": "58cc1a33-1f70-4e54-b4d7-fecb98f6ddd3"
      },
      "cell_type": "code",
      "source": [
        "np.argmax(model.predict(test_images_norm), axis=1)"
      ],
      "execution_count": 16,
      "outputs": [
        {
          "output_type": "execute_result",
          "data": {
            "text/plain": [
              "array([9, 2, 1, ..., 8, 1, 5])"
            ]
          },
          "metadata": {
            "tags": []
          },
          "execution_count": 16
        }
      ]
    },
    {
      "metadata": {
        "id": "ofd5hyNa9R9A",
        "colab_type": "code",
        "colab": {}
      },
      "cell_type": "code",
      "source": [
        "from sklearn.metrics import confusion_matrix"
      ],
      "execution_count": 0,
      "outputs": []
    },
    {
      "metadata": {
        "id": "JZstVywq-BW4",
        "colab_type": "code",
        "colab": {
          "base_uri": "https://localhost:8080/",
          "height": 187
        },
        "outputId": "03423aeb-0d1d-4099-ec18-286d2eac7c55"
      },
      "cell_type": "code",
      "source": [
        "confusion_matrix(test_labels, np.argmax(model.predict(test_images_norm), axis=1))"
      ],
      "execution_count": 18,
      "outputs": [
        {
          "output_type": "execute_result",
          "data": {
            "text/plain": [
              "array([[816,   4,   9,  47,   7,   1, 103,   0,  13,   0],\n",
              "       [  1, 967,   0,  27,   2,   0,   3,   0,   0,   0],\n",
              "       [ 17,   2, 757,  24, 145,   0,  55,   0,   0,   0],\n",
              "       [ 17,   5,   7, 933,  17,   0,  17,   0,   4,   0],\n",
              "       [  1,   1,  73,  63, 828,   0,  34,   0,   0,   0],\n",
              "       [  0,   0,   0,   1,   0, 967,   0,  17,   1,  14],\n",
              "       [107,   0,  79,  52, 106,   0, 644,   0,  12,   0],\n",
              "       [  0,   0,   0,   0,   0,  30,   0, 931,   0,  39],\n",
              "       [  5,   0,   2,   6,   4,   2,   0,   3, 978,   0],\n",
              "       [  0,   0,   0,   0,   0,   7,   1,  28,   0, 964]])"
            ]
          },
          "metadata": {
            "tags": []
          },
          "execution_count": 18
        }
      ]
    },
    {
      "metadata": {
        "id": "UpFi5No3-jQW",
        "colab_type": "code",
        "colab": {}
      },
      "cell_type": "code",
      "source": [
        "cm = confusion_matrix(test_labels, np.argmax(model.predict(test_images_norm), axis=1))"
      ],
      "execution_count": 0,
      "outputs": []
    },
    {
      "metadata": {
        "id": "OgTgBfx-_FGi",
        "colab_type": "code",
        "colab": {}
      },
      "cell_type": "code",
      "source": [
        "import seaborn as sns; sns.set()"
      ],
      "execution_count": 0,
      "outputs": []
    },
    {
      "metadata": {
        "id": "JeirhjJBABnA",
        "colab_type": "code",
        "colab": {}
      },
      "cell_type": "code",
      "source": [
        "fashion_mnist_labels = [\"T-shirt/top\",  # index 0\n",
        "                        \"Trouser\",      # index 1\n",
        "                        \"Pullover\",     # index 2 \n",
        "                        \"Dress\",        # index 3 \n",
        "                        \"Coat\",         # index 4\n",
        "                        \"Sandal\",       # index 5\n",
        "                        \"Shirt\",        # index 6 \n",
        "                        \"Sneaker\",      # index 7 \n",
        "                        \"Bag\",          # index 8 \n",
        "                        \"Ankle boot\"]   # index 9"
      ],
      "execution_count": 0,
      "outputs": []
    },
    {
      "metadata": {
        "id": "DrPQOvXQAhR8",
        "colab_type": "code",
        "colab": {
          "base_uri": "https://localhost:8080/",
          "height": 401
        },
        "outputId": "fbc7d98a-9552-4fa3-f34d-dd4963f993f4"
      },
      "cell_type": "code",
      "source": [
        "confusion_matrix = sns.heatmap(cm, annot=True, fmt=\"d\", yticklabels=fashion_mnist_labels, xticklabels=fashion_mnist_labels)\n",
        "confusion_matrix.set_xticklabels(confusion_matrix.get_xticklabels(), rotation = 90)\n",
        "\n",
        "confusion_matrix"
      ],
      "execution_count": 22,
      "outputs": [
        {
          "output_type": "execute_result",
          "data": {
            "text/plain": [
              "<matplotlib.axes._subplots.AxesSubplot at 0x7f937cc6c3c8>"
            ]
          },
          "metadata": {
            "tags": []
          },
          "execution_count": 22
        },
        {
          "output_type": "display_data",
          "data": {
            "image/png": "[encoded data removed]",
            "text/plain": [
              "<matplotlib.figure.Figure at 0x7f937cc4aac8>"
            ]
          },
          "metadata": {
            "tags": []
          }
        }
      ]
    },
    {
      "metadata": {
        "id": "A1ahOzo1CR6c",
        "colab_type": "code",
        "colab": {}
      },
      "cell_type": "code",
      "source": [
        ""
      ],
      "execution_count": 0,
      "outputs": []
    }
  ]
}